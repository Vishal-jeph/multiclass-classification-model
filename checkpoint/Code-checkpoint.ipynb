{
 "cells": [
  {
   "cell_type": "code",
   "execution_count": 10,
   "metadata": {},
   "outputs": [
    {
     "name": "stdout",
     "output_type": "stream",
     "text": [
      "./GISETTE/gisette_valid.data\n",
      "./GISETTE/gisette_test.data\n",
      "./GISETTE/gisette_train.labels\n",
      "./GISETTE/gisette.param\n",
      "./GISETTE/gisette_train.data\n",
      "./GISETTE/gisette_valid.labels\n"
     ]
    }
   ],
   "source": [
    "import numpy as np # linear algebra\n",
    "import pandas as pd # data processing, CSV file I/O (e.g. pd.read_csv)\n",
    "import matplotlib.pyplot as plt # for plottinh\n",
    "from sklearn.model_selection import train_test_split # for splitting data\n",
    "import tensorflow as tf # for model libraries\n",
    "import seaborn as sns # for model libraries\n",
    "# Input data files\n",
    "\n",
    "import os\n",
    "for dirname, _, filenames in os.walk('./GISETTE'):\n",
    "    for filename in filenames:\n",
    "        print(os.path.join(dirname, filename))\n",
    "        \n",
    "\n",
    "\n",
    "%matplotlib inline"
   ]
  },
  {
   "cell_type": "code",
   "execution_count": 11,
   "metadata": {},
   "outputs": [],
   "source": [
    "train_data = np.loadtxt(\"./GISETTE/gisette_train.data\")\n",
    "valid_data = np.loadtxt(\"./GISETTE/gisette_valid.data\")\n",
    "train_labels = np.loadtxt(\"./GISETTE/gisette_train.labels\")\n",
    "valid_labels = np.loadtxt(\"./GISETTE/gisette_valid.labels\")\n",
    "\n",
    "test_data = np.loadtxt(\"./GISETTE/gisette_test.data\")"
   ]
  },
  {
   "cell_type": "code",
   "execution_count": 15,
   "metadata": {},
   "outputs": [],
   "source": [
    "def accuracy(predictor ,data, labels):\n",
    "    pred = predictor(data)\n",
    "    # Model Accuracy, how often is the classifier correct?\n",
    "    print(\"Accuracy:\",metrics.accuracy_score(pred, labels))"
   ]
  },
  {
   "cell_type": "code",
   "execution_count": 16,
   "metadata": {},
   "outputs": [
    {
     "name": "stdout",
     "output_type": "stream",
     "text": [
      "Accuracy: 0.935\n"
     ]
    }
   ],
   "source": [
    "# Decision Tree\n",
    "\n",
    "from sklearn.tree import DecisionTreeClassifier # Import Decision Tree Classifier\n",
    "from sklearn import metrics #Import scikit-learn metrics module for accuracy calculation\n",
    "\n",
    "# Create Decision Tree classifer object\n",
    "clf = DecisionTreeClassifier()\n",
    "\n",
    "# Train Decision Tree Classifer\n",
    "clf = clf.fit(train_data,train_labels)\n",
    "\n",
    "# prediction accuracy\n",
    "accuracy(clf.predict, valid_data, valid_labels)"
   ]
  },
  {
   "cell_type": "code",
   "execution_count": 17,
   "metadata": {},
   "outputs": [
    {
     "name": "stdout",
     "output_type": "stream",
     "text": [
      "Accuracy: 0.973\n"
     ]
    }
   ],
   "source": [
    "# Random Forest\n",
    "\n",
    "from sklearn.ensemble import RandomForestClassifier\n",
    "forest = RandomForestClassifier(n_estimators = 100)\n",
    "forest = forest.fit(train_data,train_labels)\n",
    "\n",
    "# prediction accuracy\n",
    "accuracy(forest.predict, valid_data, valid_labels)\n"
   ]
  },
  {
   "cell_type": "code",
   "execution_count": 19,
   "metadata": {},
   "outputs": [
    {
     "name": "stdout",
     "output_type": "stream",
     "text": [
      "Accuracy: 0.754\n"
     ]
    }
   ],
   "source": [
    "# Naive Bayes Classifier\n",
    "\n",
    "from sklearn.naive_bayes import GaussianNB\n",
    "\n",
    "#Create a Gaussian Classifier\n",
    "GNB = GaussianNB()\n",
    "\n",
    "# Train the model using the training sets\n",
    "GNB.fit(train_data ,train_labels)\n",
    "\n",
    "#Predict Output\n",
    "accuracy(GNB.predict, valid_data, valid_labels)"
   ]
  },
  {
   "cell_type": "code",
   "execution_count": 25,
   "metadata": {},
   "outputs": [
    {
     "name": "stdout",
     "output_type": "stream",
     "text": [
      "Accuracy: 0.966\n"
     ]
    }
   ],
   "source": [
    "# KNN classifier \n",
    "from sklearn.neighbors import KNeighborsClassifier\n",
    "\n",
    "KNN = KNeighborsClassifier(n_neighbors=3)\n",
    "\n",
    "# Train the model using the training sets\n",
    "KNN.fit(train_data,train_labels)\n",
    "\n",
    "#Predict Output'\n",
    "accuracy(KNN.predict, valid_data, valid_labels)"
   ]
  },
  {
   "cell_type": "code",
   "execution_count": 36,
   "metadata": {
    "scrolled": true
   },
   "outputs": [
    {
     "name": "stdout",
     "output_type": "stream",
     "text": [
      "GNB Recall:  [0.71833333 0.73       0.72583333 0.74333333 0.73833333] Precision:  [0.77911932 0.80138023 0.80044457 0.80512017 0.8046875 ]\n",
      "KNN Recall:  [0.97333333 0.95333333 0.965      0.96666667 0.96      ] Precision:  [0.97385984 0.95365593 0.96562601 0.96692088 0.96032734]\n",
      "forest Recall:  [0.9775     0.96583333 0.97083333 0.9725     0.96666667] Precision:  [0.97788363 0.96640468 0.97105447 0.97260634 0.96692088]\n",
      "clf Recall:  [0.93583333 0.92       0.925      0.93916667 0.93083333] Precision:  [0.93597987 0.920042   0.92523151 0.9392655  0.93083453]\n"
     ]
    }
   ],
   "source": [
    "# k-fold cross validation, k = 5\n",
    "\n",
    "from sklearn.model_selection import cross_validate\n",
    "from sklearn.metrics import recall_score\n",
    "scoring = ['precision_macro', 'recall_macro']\n",
    "# Models:              <-------------------->\n",
    "models = {\"Gaussian Naive Bayes\":GNB, \"K Nearest Neighbours\": KNN, \"Random Forest\": forest, \"Decision Tree classifier\": clf}\n",
    "# Do cross validation for each model\n",
    "for key in models.keys():\n",
    "    model = models[key]\n",
    "    scores = cross_validate(model, train_data,  train_labels, scoring = scoring)\n",
    "    print(key, \"Recall: \", scores['test_recall_macro'], \"Precision: \", scores['test_precision_macro'])\n",
    "    \n",
    "    "
   ]
  },
  {
   "cell_type": "code",
   "execution_count": null,
   "metadata": {},
   "outputs": [],
   "source": [
    "# 1) Decision Tree,\n",
    "# (2) Random Forest, \n",
    "# (3) Naïve Bayes Classifier and\n",
    "# (4) KNN classifier and compare the performances using k-fold cross validation\n",
    "# and other tuning techniques."
   ]
  }
 ],
 "metadata": {
  "kernelspec": {
   "display_name": "Python 3",
   "language": "python",
   "name": "python3"
  },
  "language_info": {
   "codemirror_mode": {
    "name": "ipython",
    "version": 3
   },
   "file_extension": ".py",
   "mimetype": "text/x-python",
   "name": "python",
   "nbconvert_exporter": "python",
   "pygments_lexer": "ipython3",
   "version": "3.7.8"
  }
 },
 "nbformat": 4,
 "nbformat_minor": 4
}
