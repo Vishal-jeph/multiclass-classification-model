{
 "cells": [
  {
   "cell_type": "code",
   "execution_count": null,
   "metadata": {},
   "outputs": [],
   "source": [
    "import numpy as np # linear algebra\n",
    "import pandas as pd # data processing, CSV file I/O (e.g. pd.read_csv)\n",
    "import matplotlib.pyplot as plt # for plottinh\n",
    "from sklearn.model_selection import train_test_split # for splitting data\n",
    "import tensorflow as tf # for model libraries\n",
    "import seaborn as sns # for model libraries\n",
    "# Input data files\n",
    "\n",
    "import os\n",
    "for dirname, _, filenames in os.walk('./Data'):\n",
    "    for filename in filenames:\n",
    "        print(os.path.join(dirname, filename))\n",
    "        \n",
    "\n",
    "\n",
    "%matplotlib inline"
   ]
  },
  {
   "cell_type": "code",
   "execution_count": 11,
   "metadata": {},
   "outputs": [],
   "source": [
    "train = pd.read_csv(\"./Data/mnist_train.csv\")\n",
    "test = pd.read_csv(\"./Data/mnist_test.csv\")\n"
   ]
  },
  {
   "cell_type": "code",
   "execution_count": 12,
   "metadata": {},
   "outputs": [],
   "source": [
    "train_labels = train['label']\n",
    "train_data = train.drop('label',axis = 1 ,inplace = False)\n",
    "valid_labels = test['label']\n",
    "valid_data = test.drop('label',axis = 1 ,inplace = False)"
   ]
  },
  {
   "cell_type": "code",
   "execution_count": 13,
   "metadata": {},
   "outputs": [],
   "source": [
    "def accuracy(predictor ,data, labels):\n",
    "    pred = predictor(data)\n",
    "    # Model Accuracy, how often is the classifier correct?\n",
    "    print(\"Accuracy:\",metrics.accuracy_score(pred, labels))"
   ]
  },
  {
   "cell_type": "code",
   "execution_count": 14,
   "metadata": {},
   "outputs": [
    {
     "name": "stdout",
     "output_type": "stream",
     "text": [
      "Accuracy: 0.8768\n"
     ]
    }
   ],
   "source": [
    "# Decision Tree\n",
    "\n",
    "from sklearn.tree import DecisionTreeClassifier # Import Decision Tree Classifier\n",
    "from sklearn import metrics #Import scikit-learn metrics module for accuracy calculation\n",
    "\n",
    "# Create Decision Tree classifer object\n",
    "clf = DecisionTreeClassifier()\n",
    "\n",
    "# Train Decision Tree Classifer\n",
    "clf = clf.fit(train_data,train_labels)\n",
    "\n",
    "# prediction accuracy\n",
    "accuracy(clf.predict, valid_data, valid_labels)"
   ]
  },
  {
   "cell_type": "code",
   "execution_count": 15,
   "metadata": {},
   "outputs": [
    {
     "name": "stdout",
     "output_type": "stream",
     "text": [
      "Accuracy: 0.9697\n"
     ]
    }
   ],
   "source": [
    "# Random Forest\n",
    "\n",
    "from sklearn.ensemble import RandomForestClassifier\n",
    "forest = RandomForestClassifier(n_estimators = 100)\n",
    "forest = forest.fit(train_data,train_labels)\n",
    "\n",
    "# prediction accuracy\n",
    "accuracy(forest.predict, valid_data, valid_labels)\n"
   ]
  },
  {
   "cell_type": "code",
   "execution_count": 16,
   "metadata": {},
   "outputs": [
    {
     "name": "stdout",
     "output_type": "stream",
     "text": [
      "Accuracy: 0.5558\n"
     ]
    }
   ],
   "source": [
    "# Naive Bayes Classifier\n",
    "\n",
    "from sklearn.naive_bayes import GaussianNB\n",
    "\n",
    "#Create a Gaussian Classifier\n",
    "GNB = GaussianNB()\n",
    "\n",
    "# Train the model using the training sets\n",
    "GNB.fit(train_data ,train_labels)\n",
    "\n",
    "#Predict Output\n",
    "accuracy(GNB.predict, valid_data, valid_labels)"
   ]
  },
  {
   "cell_type": "code",
   "execution_count": 17,
   "metadata": {},
   "outputs": [
    {
     "name": "stdout",
     "output_type": "stream",
     "text": [
      "Accuracy: 0.9705\n"
     ]
    }
   ],
   "source": [
    "# KNN classifier \n",
    "from sklearn.neighbors import KNeighborsClassifier\n",
    "\n",
    "KNN = KNeighborsClassifier(n_neighbors=3)\n",
    "\n",
    "# Train the model using the training sets\n",
    "KNN.fit(train_data,train_labels)\n",
    "\n",
    "#Predict Output'\n",
    "accuracy(KNN.predict, valid_data, valid_labels)"
   ]
  },
  {
   "cell_type": "code",
   "execution_count": null,
   "metadata": {
    "scrolled": true
   },
   "outputs": [],
   "source": [
    "# k-fold cross validation, k = 5\n",
    "\n",
    "from sklearn.model_selection import cross_validate\n",
    "from sklearn.metrics import recall_score\n",
    "scoring = ['precision_macro', 'recall_macro']\n",
    "# Models:              <-------------------->\n",
    "models = {\"Gaussian Naive Bayes\":GNB, \"K Nearest Neighbours\": KNN, \"Random Forest\": forest, \"Decision Tree classifier\": clf}\n",
    "# Do cross validation for each model\n",
    "for key in models.keys():\n",
    "    model = models[key]\n",
    "    scores = cross_validate(model, train_data,  train_labels, scoring = scoring)\n",
    "    print(key, \"Recall: \", scores['test_recall_macro'], \"Precision: \", scores['test_precision_macro'])\n",
    "    \n",
    "    "
   ]
  },
  {
   "cell_type": "code",
   "execution_count": null,
   "metadata": {},
   "outputs": [],
   "source": [
    "# 1) Decision Tree,\n",
    "# (2) Random Forest, \n",
    "# (3) Naïve Bayes Classifier and\n",
    "# (4) KNN classifier and compare the performances using k-fold cross validation\n",
    "# and other tuning techniques."
   ]
  },
  {
   "cell_type": "code",
   "execution_count": null,
   "metadata": {},
   "outputs": [],
   "source": []
  },
  {
   "cell_type": "code",
   "execution_count": null,
   "metadata": {},
   "outputs": [],
   "source": []
  },
  {
   "cell_type": "code",
   "execution_count": null,
   "metadata": {},
   "outputs": [],
   "source": []
  }
 ],
 "metadata": {
  "kernelspec": {
   "display_name": "Python 3",
   "language": "python",
   "name": "python3"
  }
 },
 "nbformat": 4,
 "nbformat_minor": 4
}
